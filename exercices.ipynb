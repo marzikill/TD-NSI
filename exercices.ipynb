{
 "cells": [
  {
   "cell_type": "code",
   "execution_count": 38,
   "metadata": {},
   "outputs": [],
   "source": [
    "from sympy import *\n",
    "x = Symbol('x')"
   ]
  },
  {
   "cell_type": "markdown",
   "metadata": {},
   "source": [
    "## Exercice 1\n"
   ]
  },
  {
   "cell_type": "code",
   "execution_count": 39,
   "metadata": {},
   "outputs": [
    {
     "data": {
      "image/png": "[encoded data removed]",
      "text/latex": [
       "$\\displaystyle \\left[ - \\frac{1}{2} + \\frac{\\sqrt{5}}{2}, \\  - \\frac{\\sqrt{5}}{2} - \\frac{1}{2}\\right]$"
      ],
      "text/plain": [
       "⎡  1   √5    √5   1⎤\n",
       "⎢- ─ + ──, - ── - ─⎥\n",
       "⎣  2   2     2    2⎦"
      ]
     },
     "execution_count": 39,
     "metadata": {},
     "output_type": "execute_result"
    }
   ],
   "source": [
    "f = x**2 + x - 1\n",
    "h = x**2 - x - 1\n",
    "(solve(f, x))"
   ]
  },
  {
   "cell_type": "code",
   "execution_count": 40,
   "metadata": {},
   "outputs": [
    {
     "data": {
      "image/png": "[encoded data removed]",
      "text/latex": [
       "$\\displaystyle \\left[ \\frac{1}{2} - \\frac{\\sqrt{5}}{2}, \\  \\frac{1}{2} + \\frac{\\sqrt{5}}{2}\\right]$"
      ],
      "text/plain": [
       "⎡1   √5  1   √5⎤\n",
       "⎢─ - ──, ─ + ──⎥\n",
       "⎣2   2   2   2 ⎦"
      ]
     },
     "execution_count": 40,
     "metadata": {},
     "output_type": "execute_result"
    }
   ],
   "source": [
    "(solve(h, x))"
   ]
  },
  {
   "cell_type": "code",
   "execution_count": 41,
   "metadata": {},
   "outputs": [
    {
     "data": {
      "image/png": "[encoded data removed]",
      "text/latex": [
       "$\\displaystyle 8 x^{2} - 18 x - 5$"
      ],
      "text/plain": [
       "   2           \n",
       "8⋅x  - 18⋅x - 5"
      ]
     },
     "execution_count": 41,
     "metadata": {},
     "output_type": "execute_result"
    }
   ],
   "source": [
    "f = (3*x-2)**2 - (x +3)**2\n",
    "expand(f, x)\n"
   ]
  },
  {
   "cell_type": "code",
   "execution_count": 42,
   "metadata": {},
   "outputs": [
    {
     "data": {
      "image/png": "[encoded data removed]",
      "text/latex": [
       "$\\displaystyle \\left[ - \\frac{1}{4}, \\  \\frac{5}{2}\\right]$"
      ],
      "text/plain": [
       "[-1/4, 5/2]"
      ]
     },
     "execution_count": 42,
     "metadata": {},
     "output_type": "execute_result"
    }
   ],
   "source": [
    "solve(f, x)"
   ]
  },
  {
   "cell_type": "code",
   "execution_count": 43,
   "metadata": {},
   "outputs": [
    {
     "data": {
      "image/png": "[encoded data removed]",
      "text/latex": [
       "$\\displaystyle 2 x^{2} - 2$"
      ],
      "text/plain": [
       "   2    \n",
       "2⋅x  - 2"
      ]
     },
     "execution_count": 43,
     "metadata": {},
     "output_type": "execute_result"
    }
   ],
   "source": [
    "f = (x-1)*(2*x + 1) - (1-x)\n",
    "expand(f)"
   ]
  },
  {
   "cell_type": "code",
   "execution_count": 44,
   "metadata": {},
   "outputs": [
    {
     "data": {
      "image/png": "[encoded data removed]",
      "text/latex": [
       "$\\displaystyle \\left[ -1, \\  1\\right]$"
      ],
      "text/plain": [
       "[-1, 1]"
      ]
     },
     "execution_count": 44,
     "metadata": {},
     "output_type": "execute_result"
    }
   ],
   "source": [
    "solve(f, x)"
   ]
  },
  {
   "cell_type": "code",
   "execution_count": 45,
   "metadata": {},
   "outputs": [
    {
     "data": {
      "image/png": "[encoded data removed]",
      "text/latex": [
       "$\\displaystyle - 2 x^{2} + 2 x$"
      ],
      "text/plain": [
       "     2      \n",
       "- 2⋅x  + 2⋅x"
      ]
     },
     "execution_count": 45,
     "metadata": {},
     "output_type": "execute_result"
    }
   ],
   "source": [
    "f = (x - 1) - (x - 1)*(2*x + 1)\n",
    "expand(f)"
   ]
  },
  {
   "cell_type": "code",
   "execution_count": 46,
   "metadata": {},
   "outputs": [
    {
     "data": {
      "image/png": "[encoded data removed]",
      "text/latex": [
       "$\\displaystyle \\left[ 0, \\  1\\right]$"
      ],
      "text/plain": [
       "[0, 1]"
      ]
     },
     "execution_count": 46,
     "metadata": {},
     "output_type": "execute_result"
    }
   ],
   "source": [
    "solve(f, x)"
   ]
  },
  {
   "cell_type": "code",
   "execution_count": 47,
   "metadata": {},
   "outputs": [
    {
     "data": {
      "image/png": "[encoded data removed]",
      "text/latex": [
       "$\\displaystyle \\left[ \\frac{7}{3}, \\  5\\right]$"
      ],
      "text/plain": [
       "[7/3, 5]"
      ]
     },
     "execution_count": 47,
     "metadata": {},
     "output_type": "execute_result"
    }
   ],
   "source": [
    "f = 4*(x-3)**2 - (x-1)**2\n",
    "solve(f)"
   ]
  },
  {
   "cell_type": "code",
   "execution_count": 48,
   "metadata": {},
   "outputs": [
    {
     "data": {
      "image/png": "[encoded data removed]",
      "text/latex": [
       "$\\displaystyle 3 x^{2} - 22 x + 35$"
      ],
      "text/plain": [
       "   2            \n",
       "3⋅x  - 22⋅x + 35"
      ]
     },
     "execution_count": 48,
     "metadata": {},
     "output_type": "execute_result"
    }
   ],
   "source": [
    "expand(f)"
   ]
  },
  {
   "cell_type": "code",
   "execution_count": 49,
   "metadata": {},
   "outputs": [
    {
     "name": "stdout",
     "output_type": "stream",
     "text": [
      "[2.33333333333333, 5.00000000000000]\n"
     ]
    }
   ],
   "source": [
    "print([N(sol) for sol in solve(f, x)])"
   ]
  },
  {
   "cell_type": "code",
   "execution_count": 50,
   "metadata": {},
   "outputs": [
    {
     "data": {
      "image/png": "[encoded data removed]",
      "text/latex": [
       "$\\displaystyle \\left[ -1 - i, \\  -1 + i\\right]$"
      ],
      "text/plain": [
       "[-1 - ⅈ, -1 + ⅈ]"
      ]
     },
     "execution_count": 50,
     "metadata": {},
     "output_type": "execute_result"
    }
   ],
   "source": [
    "f = x + 1 - x + (x+1)**2\n",
    "solve(f, x)"
   ]
  },
  {
   "cell_type": "code",
   "execution_count": 53,
   "metadata": {},
   "outputs": [
    {
     "name": "stdout",
     "output_type": "stream",
     "text": [
      "Pour n =  100  : écart en valeur absolue = 0.00500000000000000 <  0.009000000000000001\n",
      "Pour n =  200  : écart en valeur absolue = 0.00250000000000006 <  0.0045000000000000005\n",
      "Pour n =  300  : écart en valeur absolue = 0.00166666666666671 <  0.003\n",
      "Pour n =  400  : écart en valeur absolue = 0.00124999999999997 <  0.0022500000000000003\n",
      "Pour n =  500  : écart en valeur absolue = 0.000999999999999890 <  0.0018\n",
      "Pour n =  600  : écart en valeur absolue = 0.000833333333333353 <  0.0015\n",
      "Pour n =  700  : écart en valeur absolue = 0.000714285714285667 <  0.0012857142857142856\n",
      "Pour n =  800  : écart en valeur absolue = 0.000624999999999987 <  0.0011250000000000001\n",
      "Pour n =  900  : écart en valeur absolue = 0.000555555555555531 <  0.001\n"
     ]
    }
   ],
   "source": [
    "x = 1.8\n",
    "def S(n):\n",
    "    return 1/n**2 * sum(floor(k*x) for k in range(n+1))\n",
    "for n in range(100,1000, 100):\n",
    "    print(\"Pour n = \", n, \" : écart en valeur absolue =\", abs(S(n) - x/2), \"< \", x/(2*n))"
   ]
  },
  {
   "cell_type": "code",
   "execution_count": null,
   "metadata": {},
   "outputs": [],
   "source": []
  }
 ],
 "metadata": {
  "kernelspec": {
   "display_name": "Python 3",
   "language": "python",
   "name": "python3"
  },
  "language_info": {
   "codemirror_mode": {
    "name": "ipython",
    "version": 3
   },
   "file_extension": ".py",
   "mimetype": "text/x-python",
   "name": "python",
   "nbconvert_exporter": "python",
   "pygments_lexer": "ipython3",
   "version": "3.8.3"
  }
 },
 "nbformat": 4,
 "nbformat_minor": 2
}
